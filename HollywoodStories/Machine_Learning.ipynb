{
 "cells": [
  {
   "cell_type": "code",
   "execution_count": 364,
   "id": "aaa67349",
   "metadata": {},
   "outputs": [],
   "source": [
    "import pandas as pd\n",
    "import numpy as np\n",
    "import pickle\n",
    "import sklearn\n",
    "from sklearn import linear_model\n",
    "from sklearn.utils import shuffle\n",
    "import matplotlib.pyplot as plt\n",
    "import seaborn as sns"
   ]
  },
  {
   "cell_type": "code",
   "execution_count": 365,
   "id": "f3da0275",
   "metadata": {},
   "outputs": [],
   "source": [
    "data = pd.read_csv(\"HollywoodsMostProfitableStories.csv\", na_values=[\" \", \"?\",\"-\", \"_\"])"
   ]
  },
  {
   "cell_type": "code",
   "execution_count": 366,
   "id": "9d3553cb",
   "metadata": {},
   "outputs": [],
   "source": [
    "#droping missing values\n",
    "data = data.dropna()"
   ]
  },
  {
   "cell_type": "code",
   "execution_count": 367,
   "id": "a0759827",
   "metadata": {},
   "outputs": [],
   "source": [
    "# Filtering out data we not going to use\n",
    "data = data[[\"Audience_Score %\", \"Profitability\", \"Rotten Tomatoes %\", \"Worldwide Gross\"]]"
   ]
  },
  {
   "cell_type": "markdown",
   "id": "d76b6586-54b1-42a6-a183-3c355f144d37",
   "metadata": {},
   "source": [
    "#### Given the limited size of our dataset, we've chosen to employ Scikit-Learn's simpler models over neural networks. Small datasets can be challenging for deep learning models, which excel when trained on large data. By opting for straightforward and interpretable models like linear regression, we mitigate the risk of overfitting and improve the clarity of our results."
   ]
  },
  {
   "cell_type": "markdown",
   "id": "318f1a88-9320-4538-aa1b-59b6174e940e",
   "metadata": {},
   "source": [
    "#### Building the model to predict the `\"Rotten Tomatoes %\"` Using the `\"Audience_score %\"` "
   ]
  },
  {
   "cell_type": "code",
   "execution_count": 368,
   "id": "2f73ec47",
   "metadata": {},
   "outputs": [],
   "source": [
    "x = np.array(data['Audience_Score %'])\n",
    "x = x.reshape(-1,1) # done because scikit learn cannot use rank 1 matrix\n",
    "y = np.array(data['Rotten Tomatoes %'])"
   ]
  },
  {
   "cell_type": "code",
   "execution_count": 369,
   "id": "4b8a2997",
   "metadata": {},
   "outputs": [],
   "source": [
    "# variable to store our best score of our model\n",
    "best_score = 0 "
   ]
  },
  {
   "cell_type": "markdown",
   "id": "d1a8cec5-586c-4ea7-8368-2d24e8e3a5a2",
   "metadata": {},
   "source": [
    "### Trainning the model"
   ]
  },
  {
   "cell_type": "code",
   "execution_count": 370,
   "id": "00a702db",
   "metadata": {},
   "outputs": [
    {
     "name": "stdout",
     "output_type": "stream",
     "text": [
      "best_score: 0.6973773779135392\n",
      "coefficient: [1.072]\n",
      "Intercept: -21.507097206669876\n"
     ]
    }
   ],
   "source": [
    "for _ in range(100):\n",
    "    # spliting data into the train and testing sets\n",
    "    x_train, x_test, y_train, y_test = sklearn.model_selection.train_test_split(x, y, test_size = 0.1)\n",
    "    #creating the Model\n",
    "    linear = linear_model.LinearRegression()\n",
    "    #fitting trainning data\n",
    "    linear.fit(x_train, y_train)\n",
    "    # Testing our model accuracy\n",
    "    acc = linear.score(x_test, y_test)\n",
    "\n",
    "    if acc > best_score:\n",
    "        best_score = acc\n",
    "        # using pickle to store our best model\n",
    "        with open(\"tomatoesmodel.pickle\", \"wb\") as f:\n",
    "            pickle.dump(linear, f)\n",
    "\n",
    "print(\"best_score:\", best_score) \n",
    "print(\"coefficient:\", linear.coef_)\n",
    "print(\"Intercept:\", linear.intercept_)"
   ]
  },
  {
   "cell_type": "code",
   "execution_count": 371,
   "id": "e0f6bd2b-64a3-4e92-9a25-d86c1771a2f4",
   "metadata": {},
   "outputs": [],
   "source": [
    "prediction = linear.predict(x_test)\n",
    "y_predict = linear.predict(x)"
   ]
  },
  {
   "cell_type": "code",
   "execution_count": 372,
   "id": "a4e7d45f",
   "metadata": {},
   "outputs": [
    {
     "name": "stdout",
     "output_type": "stream",
     "text": [
      "predicted_value:62.119274511148184\t Audience_score:[78.]\t Rotten Tomato %:27.0\n",
      "predicted_value:55.68647668670065\t Audience_score:[72.]\t Rotten Tomato %:60.0\n",
      "predicted_value:73.91273718930202\t Audience_score:[89.]\t Rotten Tomato %:96.0\n",
      "predicted_value:21.378221622980412\t Audience_score:[40.]\t Rotten Tomato %:18.0\n",
      "predicted_value:68.55207233559574\t Audience_score:[84.]\t Rotten Tomato %:83.0\n",
      "predicted_value:33.17168430113424\t Audience_score:[51.]\t Rotten Tomato %:40.0\n",
      "predicted_value:46.03727995002934\t Audience_score:[63.]\t Rotten Tomato %:56.0\n"
     ]
    }
   ],
   "source": [
    "for i in range(len(prediction)):\n",
    "    print(f\"predicted_value:{prediction[i]}\\t Audience_score:{x_test[i]}\\t Rotten Tomato %:{y_test[i]}\")"
   ]
  },
  {
   "cell_type": "markdown",
   "id": "2673fb2e-9708-4036-834f-7641cc619901",
   "metadata": {},
   "source": [
    "#### Plotting Values and Regression Line"
   ]
  },
  {
   "cell_type": "code",
   "execution_count": 373,
   "id": "0473639f-4df5-4c26-adfd-589e8ea53658",
   "metadata": {},
   "outputs": [
    {
     "data": {
      "image/png": "[encoded data removed]",
      "text/plain": [
       "<Figure size 640x480 with 1 Axes>"
      ]
     },
     "metadata": {},
     "output_type": "display_data"
    }
   ],
   "source": [
    "plt.scatter(x, y, label=\"Data Points\")\n",
    "plt.plot(x, y_predict, color='red', label=\"Regression Line\")\n",
    "plt.xlabel(\"Audience Score %\")\n",
    "plt.ylabel(\"Rotten Tomatoes %\")\n",
    "plt.legend()\n",
    "plt.show()"
   ]
  },
  {
   "cell_type": "markdown",
   "id": "dba35c90",
   "metadata": {},
   "source": [
    "#### Building the model to predict the `\"Worldwide Gross\"` Using the `\"Audience_score %\", \"Profitability\" and \"Rotten Tomatoes\"`"
   ]
  },
  {
   "cell_type": "code",
   "execution_count": 374,
   "id": "43c25f66",
   "metadata": {},
   "outputs": [],
   "source": [
    "x1 = np.array(data.drop('Worldwide Gross', axis = 1))\n",
    "y1 = np.array(data['Worldwide Gross'])"
   ]
  },
  {
   "cell_type": "code",
   "execution_count": 375,
   "id": "65965f3e",
   "metadata": {},
   "outputs": [],
   "source": [
    "best_score1 = 0 "
   ]
  },
  {
   "cell_type": "markdown",
   "id": "20e6b48d",
   "metadata": {},
   "source": [
    "### Trainning the model"
   ]
  },
  {
   "cell_type": "code",
   "execution_count": 376,
   "id": "0472f865",
   "metadata": {},
   "outputs": [
    {
     "name": "stdout",
     "output_type": "stream",
     "text": [
      "best_score: 0.681301179420716\n",
      "coefficients: [ 4.232 18.775 -1.158]\n",
      "Intercept: -150.16664910088207\n"
     ]
    }
   ],
   "source": [
    "for _ in range(100):\n",
    "    # spliting data into the train and testing sets\n",
    "    x1_train, x1_test, y1_train, y1_test = sklearn.model_selection.train_test_split(x1, y1, test_size = 0.1)\n",
    "    #creating the Model\n",
    "    linear_gross = linear_model.LinearRegression()\n",
    "    #fitting trainning data\n",
    "    linear_gross.fit(x1_train, y1_train)\n",
    "    # Testing our model accuracy\n",
    "    acc = linear_gross.score(x1_test, y1_test)\n",
    "\n",
    "    if acc > best_score1:\n",
    "        best_score1 = acc\n",
    "        # using pickle to store our best model\n",
    "        with open(\"worldGrossmodel.pickle\", \"wb\") as f:\n",
    "            pickle.dump(linear, f)\n",
    "\n",
    "print(\"best_score:\", best_score1) \n",
    "print(\"coefficients:\", linear_gross.coef_)\n",
    "print(\"Intercept:\", linear_gross.intercept_)"
   ]
  },
  {
   "cell_type": "code",
   "execution_count": 377,
   "id": "0a297582-cb65-40b7-b520-80e55322224f",
   "metadata": {},
   "outputs": [],
   "source": [
    "predictions = linear_gross.predict(x1_test)"
   ]
  },
  {
   "cell_type": "code",
   "execution_count": 378,
   "id": "9971f698-6e25-40f9-bc6f-2abbc6a65926",
   "metadata": {},
   "outputs": [
    {
     "name": "stdout",
     "output_type": "stream",
     "text": [
      "predicted_value:55.83828744142494\t Our_Values:[47.     2.044 27.   ]\t Worldwide Gross:102.22\n",
      "predicted_value:1276.0075301757156\t Our_Values:[51.    66.934 40.   ]\t Worldwide Gross:33.467\n",
      "predicted_value:179.17544702782396\t Our_Values:[70.     3.491 28.   ]\t Worldwide Gross:55.86\n",
      "predicted_value:50.903877683571494\t Our_Values:[45.     1.245 11.   ]\t Worldwide Gross:93.4\n",
      "predicted_value:35.889705947217834\t Our_Values:[40.     2.004 18.   ]\t Worldwide Gross:36.08\n",
      "predicted_value:227.32763387243898\t Our_Values:[68.     6.383 26.   ]\t Worldwide Gross:702.17\n",
      "predicted_value:238.48977690942644\t Our_Values:[67.   11.09 89.  ]\t Worldwide Gross:22.179483\n"
     ]
    }
   ],
   "source": [
    "for i in range(len(predictions)):\n",
    "    print(f\"predicted_value:{predictions[i]}\\t Our_Values:{x1_test[i]}\\t Worldwide Gross:{y1_test[i]}\")"
   ]
  },
  {
   "cell_type": "markdown",
   "id": "1a6c3199-ef1f-45cd-a980-df81dce4c0b0",
   "metadata": {},
   "source": [
    "### Conclution\n",
    "The suboptimal performance of our models during the validation checks can be attributed to several key factors. Our relatively small dataset poses a challenge, as machine learning models often thrive on larger data volumes to generalize effectively. Moreover, the presence of numerous outliers can introduce noise and disrupt the models' ability to make accurate predictions. Additionally, the weak correlation between our input features and the target variable further complicates the modeling process. The selection of overly complex models may also contribute to overfitting, especially given our limited data.\n"
   ]
  }
 ],
 "metadata": {
  "kernelspec": {
   "display_name": "Python 3 (ipykernel)",
   "language": "python",
   "name": "python3"
  },
  "language_info": {
   "codemirror_mode": {
    "name": "ipython",
    "version": 3
   },
   "file_extension": ".py",
   "mimetype": "text/x-python",
   "name": "python",
   "nbconvert_exporter": "python",
   "pygments_lexer": "ipython3",
   "version": "3.11.4"
  }
 },
 "nbformat": 4,
 "nbformat_minor": 5
}
